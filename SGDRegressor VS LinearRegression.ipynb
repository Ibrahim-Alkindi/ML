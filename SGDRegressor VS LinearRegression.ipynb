{
 "cells": [
  {
   "cell_type": "code",
   "execution_count": 1,
   "id": "2831d118-3443-44d5-83e9-0fc68e083f1e",
   "metadata": {},
   "outputs": [],
   "source": [
    "import numpy as np\n",
    "import pandas as pd\n",
    "import plotly.graph_objs as go\n",
    "from matplotlib import pyplot as plt\n",
    "from sklearn.linear_model import SGDRegressor\n",
    "from sklearn.metrics import mean_squared_error\n",
    "from sklearn.linear_model import LinearRegression\n",
    "from plotly.offline import init_notebook_mode, iplot"
   ]
  },
  {
   "cell_type": "code",
   "execution_count": 2,
   "id": "7ff6f7d5-9040-4c4f-9974-9d52f3a57898",
   "metadata": {},
   "outputs": [],
   "source": [
    "import warnings\n",
    "warnings.filterwarnings(\"ignore\")"
   ]
  },
  {
   "cell_type": "code",
   "execution_count": 3,
   "id": "833d4653-516c-48f2-8be3-4b2baadf3e36",
   "metadata": {},
   "outputs": [],
   "source": [
    "X1 = 2 * np.random.rand(1000, 1)\n",
    "y1 = 4 + 3 * X1 "
   ]
  },
  {
   "cell_type": "code",
   "execution_count": 16,
   "id": "f154ad91-9151-403e-9981-a9da968a2865",
   "metadata": {},
   "outputs": [],
   "source": [
    "model = SGDRegressor(\n",
    "    max_iter=1, #Hyper-para\n",
    "    eta0= 0.0001, #Hyper-para\n",
    "    warm_start=True\n",
    ")"
   ]
  },
  {
   "cell_type": "code",
   "execution_count": 17,
   "id": "3db80b23-7f43-4505-92b3-4e3e317b7fac",
   "metadata": {},
   "outputs": [
    {
     "name": "stdout",
     "output_type": "stream",
     "text": [
      "Number of iteration: 0, m: 0.1887955846880148, b: 0.16234551751213536, MSE: 47.45359081433626\n",
      "Number of iteration: 1, m: 0.36856799234914, b: 0.31692771977514794, MSE: 42.724050327331014\n",
      "Number of iteration: 2, m: 0.5388843560200004, b: 0.46352958183078063, MSE: 38.47136429245935\n",
      "Number of iteration: 3, m: 0.70009256935868, b: 0.6027945266190465, MSE: 34.64658041616905\n",
      "Number of iteration: 4, m: 0.8523771752653665, b: 0.7348550400836681, MSE: 31.212811457551062\n",
      "Number of iteration: 5, m: 0.9972644768259769, b: 0.8604697046243587, MSE: 28.113354768801287\n",
      "Number of iteration: 6, m: 1.1336210021958821, b: 0.9795879431686808, MSE: 25.336435938749332\n",
      "Number of iteration: 7, m: 1.260307574787405, b: 1.0921656346172428, MSE: 22.868829405429118\n",
      "Number of iteration: 8, m: 1.3829635377708658, b: 1.1997710562449801, MSE: 20.613318358693622\n",
      "Number of iteration: 9, m: 1.5013943226084594, b: 1.3025872269154535, MSE: 18.556593214735184\n",
      "Number of iteration: 10, m: 1.612945531199789, b: 1.4000916856255645, MSE: 16.713760700508058\n",
      "Number of iteration: 11, m: 1.717053236112529, b: 1.4923139451197005, MSE: 15.072336395680562\n",
      "Number of iteration: 12, m: 1.8166492687663836, b: 1.5801949248569693, MSE: 13.584752934510336\n",
      "Number of iteration: 13, m: 1.9111754860664074, b: 1.6637368483177846, MSE: 12.244275044006201\n",
      "Number of iteration: 14, m: 2.000016292507459, b: 1.7430473738937853, MSE: 11.043511925829812\n",
      "Number of iteration: 15, m: 2.0845974740087123, b: 1.8185442617273277, MSE: 9.95876739191652\n",
      "Number of iteration: 16, m: 2.163854304004907, b: 1.8901506807358899, MSE: 8.988880382906645\n",
      "Number of iteration: 17, m: 2.2394536605677815, b: 1.958337852423563, MSE: 8.11147048043855\n",
      "Number of iteration: 18, m: 2.311574247925171, b: 2.0232801341518867, MSE: 7.3177848639711796\n",
      "Number of iteration: 19, m: 2.380114066971131, b: 2.085077011623959, MSE: 6.601758400170393\n",
      "Number of iteration: 20, m: 2.4439501546007354, b: 2.143649441730055, MSE: 5.963868360753844\n",
      "Number of iteration: 21, m: 2.5045178592003765, b: 2.199411375143293, MSE: 5.388475840160863\n",
      "Number of iteration: 22, m: 2.561281292189405, b: 2.252381103292458, MSE: 4.873330039098417\n",
      "Number of iteration: 23, m: 2.615265426255783, b: 2.3028600997773987, MSE: 4.407703968785121\n",
      "Number of iteration: 24, m: 2.6664899461401745, b: 2.3509369708636196, MSE: 3.987500059857043\n",
      "Number of iteration: 25, m: 2.7154889026300624, b: 2.396772162248848, MSE: 3.606544317854839\n",
      "Number of iteration: 26, m: 2.7621231146931895, b: 2.4404323677098754, MSE: 3.2623242413416094\n",
      "Number of iteration: 27, m: 2.8061279373108334, b: 2.4819851351236735, MSE: 2.952840613721999\n",
      "Number of iteration: 28, m: 2.8479471438004693, b: 2.521565683714433, MSE: 2.6734284648097946\n",
      "Number of iteration: 29, m: 2.887930911579097, b: 2.559276970859971, MSE: 2.420387394970417\n",
      "Number of iteration: 30, m: 2.9245839081640037, b: 2.5951228016523182, MSE: 2.1963701544467362\n",
      "Number of iteration: 31, m: 2.959667334242601, b: 2.629306646755084, MSE: 1.993157278911016\n",
      "Number of iteration: 32, m: 2.9927452161563917, b: 2.661884514752906, MSE: 1.810314197581424\n",
      "Number of iteration: 33, m: 3.023917487026718, b: 2.692944013765208, MSE: 1.6457768396118724\n",
      "Number of iteration: 34, m: 3.053873289665781, b: 2.7225452546027658, MSE: 1.4962936774879272\n",
      "Number of iteration: 35, m: 3.082261514311186, b: 2.750753342047072, MSE: 1.3614791784478493\n",
      "Number of iteration: 36, m: 3.1091796733061168, b: 2.7776304310107003, MSE: 1.2398707066033676\n",
      "Number of iteration: 37, m: 3.1339364676358357, b: 2.8033357020440217, MSE: 1.1315548850594046\n",
      "Number of iteration: 38, m: 3.1576795361698133, b: 2.827817812478333, MSE: 1.03326638641811\n",
      "Number of iteration: 39, m: 3.1801626130999714, b: 2.851166719244321, MSE: 0.9445778108591099\n",
      "Number of iteration: 40, m: 3.2012498962251406, b: 2.8734816022505307, MSE: 0.8648154101734368\n",
      "Number of iteration: 41, m: 3.22115509615088, b: 2.8947850785164357, MSE: 0.7928869552355183\n",
      "Number of iteration: 42, m: 3.23993669971302, b: 2.9151314528780965, MSE: 0.7280121216606231\n",
      "Number of iteration: 43, m: 3.257568098046477, b: 2.934593012842799, MSE: 0.6695742507124992\n",
      "Number of iteration: 44, m: 3.2741749636908657, b: 2.9532158602320564, MSE: 0.6168287635975135\n",
      "Number of iteration: 45, m: 3.289931267944897, b: 2.9709655593535516, MSE: 0.5691669556032025\n",
      "Number of iteration: 46, m: 3.3046894435817853, b: 2.9879791915107567, MSE: 0.5261966513952652\n",
      "Number of iteration: 47, m: 3.3186012853351032, b: 3.004248292709846, MSE: 0.48738953677264796\n",
      "Number of iteration: 48, m: 3.3316678742723393, b: 3.019860434172785, MSE: 0.45231525834081343\n",
      "Number of iteration: 49, m: 3.3438907708651695, b: 3.0348659684797616, MSE: 0.4206251546751541\n",
      "Number of iteration: 50, m: 3.3554982229590613, b: 3.049141870619498, MSE: 0.39198531169544326\n",
      "Number of iteration: 51, m: 3.366434176841183, b: 3.06280854675054, MSE: 0.3660833855076183\n",
      "Number of iteration: 52, m: 3.376664933779519, b: 3.0759221072835605, MSE: 0.3426800607742594\n",
      "Number of iteration: 53, m: 3.3862830902598793, b: 3.088476831855273, MSE: 0.321514636675056\n",
      "Number of iteration: 54, m: 3.3952799380098426, b: 3.1006048298394733, MSE: 0.3022916983316974\n",
      "Number of iteration: 55, m: 3.4037189348856884, b: 3.112238544487641, MSE: 0.2848856485059989\n",
      "Number of iteration: 56, m: 3.41163403171515, b: 3.1233800541345085, MSE: 0.2691344390913219\n",
      "Number of iteration: 57, m: 3.419010710240526, b: 3.134014606419688, MSE: 0.25493361882946075\n",
      "Number of iteration: 58, m: 3.4259427024153846, b: 3.1442304271763826, MSE: 0.24203261537760767\n",
      "Number of iteration: 59, m: 3.4324185930049516, b: 3.1539944412384524, MSE: 0.2303680718157187\n",
      "Number of iteration: 60, m: 3.43850800520914, b: 3.1633477553819143, MSE: 0.2197777141410718\n",
      "Number of iteration: 61, m: 3.444091786002627, b: 3.1722847856876712, MSE: 0.21024089350261402\n",
      "Number of iteration: 62, m: 3.449348603149628, b: 3.1811079042986496, MSE: 0.20137411615100204\n",
      "Number of iteration: 63, m: 3.4542083555255063, b: 3.1895314250537736, MSE: 0.19336361551692305\n",
      "Number of iteration: 64, m: 3.4587281697528476, b: 3.1975897459078166, MSE: 0.18609688710280903\n",
      "Number of iteration: 65, m: 3.462958412801843, b: 3.2054492817975793, MSE: 0.1793915032861452\n",
      "Number of iteration: 66, m: 3.466758562735435, b: 3.212954173765553, MSE: 0.17335102326573443\n",
      "Number of iteration: 67, m: 3.4703044500927356, b: 3.220227235579244, MSE: 0.16779257905424413\n",
      "Number of iteration: 68, m: 3.4735805183143365, b: 3.227191778790663, MSE: 0.16273140236886519\n",
      "Number of iteration: 69, m: 3.4766270840344773, b: 3.2339881625818303, MSE: 0.1580404595164783\n",
      "Number of iteration: 70, m: 3.479425233044292, b: 3.2406773837221556, MSE: 0.15366544491116707\n",
      "Number of iteration: 71, m: 3.481946625673432, b: 3.247003055944424, MSE: 0.1497256176447475\n",
      "Number of iteration: 72, m: 3.4842162202133182, b: 3.2532197304320096, MSE: 0.14605029366710623\n",
      "Number of iteration: 73, m: 3.486229879265466, b: 3.259142385195037, MSE: 0.142712021257887\n",
      "Number of iteration: 74, m: 3.4880134904165674, b: 3.264816484118201, MSE: 0.13965750227786297\n",
      "Number of iteration: 75, m: 3.489651275992421, b: 3.270411295241002, MSE: 0.13677385794287136\n",
      "Number of iteration: 76, m: 3.4912036326401865, b: 3.275825347525188, MSE: 0.13408929657061888\n",
      "Number of iteration: 77, m: 3.4924002291589322, b: 3.280928509431452, MSE: 0.13167824209854476\n",
      "Number of iteration: 78, m: 3.4936355872494196, b: 3.2860843810298994, MSE: 0.12932186556618666\n",
      "Number of iteration: 79, m: 3.494671031653929, b: 3.2911730093292393, MSE: 0.12709243597099107\n",
      "Number of iteration: 80, m: 3.495503493659786, b: 3.2958985574861805, MSE: 0.12509899491669585\n",
      "Number of iteration: 81, m: 3.4961394119730307, b: 3.3005196367881044, MSE: 0.12322018584577073\n",
      "Number of iteration: 82, m: 3.496761342912249, b: 3.3050459973692106, MSE: 0.1214339674988286\n",
      "Number of iteration: 83, m: 3.4972782375799802, b: 3.30953659754937, MSE: 0.11971822902264877\n",
      "Number of iteration: 84, m: 3.4976289415414588, b: 3.313907441787769, MSE: 0.11810060937507555\n",
      "Number of iteration: 85, m: 3.4977653190608122, b: 3.318066762770145, MSE: 0.11660611973761573\n",
      "Number of iteration: 86, m: 3.4979012899355806, b: 3.32220638126533, MSE: 0.11515539718775594\n",
      "Number of iteration: 87, m: 3.4978848299217913, b: 3.3262606028273427, MSE: 0.11377004444957642\n",
      "Number of iteration: 88, m: 3.4978760419152737, b: 3.33025421731002, MSE: 0.11243733787550568\n",
      "Number of iteration: 89, m: 3.49776251533445, b: 3.334120472279047, MSE: 0.11117572522266154\n",
      "Number of iteration: 90, m: 3.4975728492572156, b: 3.337837785876963, MSE: 0.10998742418629652\n",
      "Number of iteration: 91, m: 3.4972327789083684, b: 3.3414806305411524, MSE: 0.10884253600696656\n",
      "Number of iteration: 92, m: 3.4968327124632466, b: 3.3451727231740263, MSE: 0.10770247535883362\n",
      "Number of iteration: 93, m: 3.4963338094590517, b: 3.3487849004274914, MSE: 0.10660362725052867\n",
      "Number of iteration: 94, m: 3.495765945207433, b: 3.3522286075290095, MSE: 0.10556981873136076\n",
      "Number of iteration: 95, m: 3.4951486209396707, b: 3.3555367102567075, MSE: 0.10458868177830451\n",
      "Number of iteration: 96, m: 3.4944493425706864, b: 3.358793126312587, MSE: 0.1036319852563289\n",
      "Number of iteration: 97, m: 3.4937406300112896, b: 3.361988250911416, MSE: 0.10270485335373339\n",
      "Number of iteration: 98, m: 3.4928683907929714, b: 3.365128630302461, MSE: 0.10179441370896924\n",
      "Number of iteration: 99, m: 3.492116958135646, b: 3.3683104308725174, MSE: 0.10089205224636516\n"
     ]
    }
   ],
   "source": [
    "out = []\n",
    "\n",
    "for i in range(100):\n",
    "    model.fit(X1,y1)\n",
    "    out.append([\n",
    "                i, # Number of iteration\n",
    "                model.coef_[0], # Model Parameter [1] (Slope)\n",
    "                model.intercept_[0], # Model Parameter [2] (Intercept)\n",
    "                mean_squared_error(y1, model.predict(X1)) # MSE od the model\n",
    "                ])\n",
    "    df = pd.DataFrame(out, columns = ['iteration','m','b','MSE'])\n",
    "    out2 = out[-1]\n",
    "    print('Number of iteration: {}, m: {}, b: {}, MSE: {}'.format(out2[0], out2[1], out2[2], out2[3]))\n",
    "    MSE = out2[3]"
   ]
  },
  {
   "cell_type": "code",
   "execution_count": 9,
   "id": "303bb039-27da-4c82-a71a-aff7424e353d",
   "metadata": {},
   "outputs": [
    {
     "data": {
      "text/plain": [
       "2.4431548696064504e-07"
      ]
     },
     "execution_count": 9,
     "metadata": {},
     "output_type": "execute_result"
    }
   ],
   "source": [
    "# For 0.1 lr\n",
    "MSE"
   ]
  },
  {
   "cell_type": "code",
   "execution_count": 12,
   "id": "517dbbc4-c69a-4ebc-b09d-9bfeffef2287",
   "metadata": {},
   "outputs": [
    {
     "data": {
      "text/plain": [
       "2.5951493951158915e-07"
      ]
     },
     "execution_count": 12,
     "metadata": {},
     "output_type": "execute_result"
    }
   ],
   "source": [
    "# Fot 0.01 lr\n",
    "MSE"
   ]
  },
  {
   "cell_type": "code",
   "execution_count": 15,
   "id": "8f350da1-7568-4ab9-9725-a4d5fe09e060",
   "metadata": {},
   "outputs": [
    {
     "data": {
      "text/plain": [
       "0.00012385230755287987"
      ]
     },
     "execution_count": 15,
     "metadata": {},
     "output_type": "execute_result"
    }
   ],
   "source": [
    "# For 0.001 lr\n",
    "MSE"
   ]
  },
  {
   "cell_type": "code",
   "execution_count": 18,
   "id": "9be8e364-a742-4b38-b773-8b5dd9263168",
   "metadata": {},
   "outputs": [
    {
     "data": {
      "text/plain": [
       "0.10089205224636516"
      ]
     },
     "execution_count": 18,
     "metadata": {},
     "output_type": "execute_result"
    }
   ],
   "source": [
    "# For 0.0001 lr\n",
    "MSE"
   ]
  },
  {
   "cell_type": "code",
   "execution_count": 19,
   "id": "2a09fae6-08e2-4e30-b47a-ff8fdd3a46de",
   "metadata": {},
   "outputs": [],
   "source": [
    "LR_model = LinearRegression()"
   ]
  },
  {
   "cell_type": "code",
   "execution_count": 20,
   "id": "08ba530c-ba5e-434d-8912-40790a4ab66f",
   "metadata": {},
   "outputs": [
    {
     "name": "stdout",
     "output_type": "stream",
     "text": [
      "m: [3.], b: 4.0, MSE: 6.460770813760086e-31\n"
     ]
    }
   ],
   "source": [
    "out1 = []\n",
    "LR_model.fit(X1,y1)\n",
    "out1.append([\n",
    "            LR_model.coef_[0],\n",
    "            LR_model.intercept_[0], \n",
    "            mean_squared_error(y1, LR_model.predict(X1))\n",
    "            ])\n",
    "df1 = pd.DataFrame(out1, columns = ['m','b','MSE'])\n",
    "out3 = out1[-1]\n",
    "print('m: {}, b: {}, MSE: {}'.format(out3[0], out3[1], out3[2]))\n",
    "MSE = out3[2]"
   ]
  },
  {
   "cell_type": "code",
   "execution_count": 21,
   "id": "ca18202c-9c04-4086-9827-b357aa798088",
   "metadata": {},
   "outputs": [
    {
     "data": {
      "text/plain": [
       "6.460770813760086e-31"
      ]
     },
     "execution_count": 21,
     "metadata": {},
     "output_type": "execute_result"
    }
   ],
   "source": [
    "# For LinearRegression\n",
    "MSE"
   ]
  }
 ],
 "metadata": {
  "kernelspec": {
   "display_name": "(00) Python 3.9 - ML",
   "language": "python",
   "name": "py39_ml"
  },
  "language_info": {
   "codemirror_mode": {
    "name": "ipython",
    "version": 3
   },
   "file_extension": ".py",
   "mimetype": "text/x-python",
   "name": "python",
   "nbconvert_exporter": "python",
   "pygments_lexer": "ipython3",
   "version": "3.9.23"
  }
 },
 "nbformat": 4,
 "nbformat_minor": 5
}
